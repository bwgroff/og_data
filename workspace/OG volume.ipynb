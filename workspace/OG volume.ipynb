{
 "cells": [
  {
   "cell_type": "code",
   "execution_count": 3,
   "metadata": {
    "collapsed": true
   },
   "outputs": [],
   "source": [
    "import matplotlib.pyplot as plt\n",
    "import numpy as np\n",
    "import seaborn as sns\n",
    "%matplotlib inline"
   ]
  },
  {
   "cell_type": "code",
   "execution_count": 6,
   "metadata": {
    "collapsed": true
   },
   "outputs": [],
   "source": [
    "data = [16928.08,25134.30,30037.06,37560.14,42210.55,42186.88,43727.37,45742.54,\n",
    "43118.33,47854.54,53622.73,53604.71,68263.94,39606.26,54303.31,81332.90,\n",
    "77712.81,79880.11,110630.87,155681.33,163048.56,202184.55,226294.80,246101.81,\n",
    "284164.84,332863.26,360383.82,395042.85,463482.24,461207.40,484016.33,657729.65,\n",
    "672490.97,853890.93,762438.64,886382.83,1008880.82,2431244.71,1435855.67,\n",
    "1500466.37,1666929.71,1932625.52,2135138.31,2507876.45,2771683.73,3090980.60,\n",
    "2984359.78,3139428.27,3168665.09,3513556.69,3443893.57,3764484.75,3672126.53,\n",
    "3593125.55,3677214.88,3999731.66,3892330.03,4253455.44,5318025.95,4830614.81,\n",
    "4842166.97,5150410.65,5430110.13,5700625.03,5826068.01,6134421.43,6430278.62,\n",
    "6428276.91,6310042.14,7246700.83,6704690.44,7104377.08,6798022.42,7288298.90,\n",
    "7661571.25,7782004.58,8100906.51,8223543.15,8215539.17,8725541.91,8296980.29,\n",
    "9120041,9263722.33,10263565.82,10299085.95,10980107.99,6698630.79 * 31/18.0]"
   ]
  },
  {
   "cell_type": "code",
   "execution_count": 7,
   "metadata": {
    "collapsed": false
   },
   "outputs": [
    {
     "data": {
      "text/plain": [
       "[<matplotlib.lines.Line2D at 0x7fb051b77a20>]"
      ]
     },
     "execution_count": 7,
     "metadata": {},
     "output_type": "execute_result"
    },
    {
     "data": {
      "image/png": "[encoded data removed]",
      "text/plain": [
       "<matplotlib.figure.Figure at 0x7fb07d076978>"
      ]
     },
     "metadata": {},
     "output_type": "display_data"
    }
   ],
   "source": [
    "plt.plot(np.array(data))"
   ]
  },
  {
   "cell_type": "code",
   "execution_count": null,
   "metadata": {
    "collapsed": true
   },
   "outputs": [],
   "source": []
  }
 ],
 "metadata": {
  "kernelspec": {
   "display_name": "Python 3",
   "language": "python",
   "name": "python3"
  },
  "language_info": {
   "codemirror_mode": {
    "name": "ipython",
    "version": 3
   },
   "file_extension": ".py",
   "mimetype": "text/x-python",
   "name": "python",
   "nbconvert_exporter": "python",
   "pygments_lexer": "ipython3",
   "version": "3.4.3"
  }
 },
 "nbformat": 4,
 "nbformat_minor": 1
}

{
 "cells": [
  {
   "cell_type": "code",
   "execution_count": 1,
   "metadata": {
    "collapsed": true
   },
   "outputs": [],
   "source": [
    "import pandas as pd\n",
    "import matplotlib.pyplot as plt\n",
    "import seaborn as sns\n",
    "%matplotlib inline"
   ]
  },
  {
   "cell_type": "code",
   "execution_count": 36,
   "metadata": {
    "collapsed": true
   },
   "outputs": [],
   "source": [
    "cols = [\"merchant\", \"product\", \"num_orders\", \"count\"]\n",
    "ops = pd.read_csv(\"data/orders_by_sub.csv\", names=cols)"
   ]
  },
  {
   "cell_type": "code",
   "execution_count": 51,
   "metadata": {
    "collapsed": false
   },
   "outputs": [],
   "source": [
    "ops_total_by_product = ops[[\"merchant\",\"product\",\"count\"]].groupby([\"merchant\", \"product\"]).sum()\n",
    "ops_prod_totals = ops.join(ops_total_by_product, on=[\"merchant\", \"product\"], lsuffix=\"\", rsuffix=\"_total_by_product\")\n",
    "ops_products = ops_prod_totals[[\"merchant\", \"product\", \"num_orders\", \"count\", \"count_total_by_product\"]]\n",
    "ops_products[\"normalized\"] = ops_products[\"count\"] / ops_products[\"count_total_by_product\"]"
   ]
  },
  {
   "cell_type": "code",
   "execution_count": 76,
   "metadata": {
    "collapsed": false
   },
   "outputs": [],
   "source": [
    "ops_total_by_merchant = ops[[\"merchant\",\"count\"]].groupby([\"merchant\"]).sum()\n",
    "ops_mrch = ops[[\"merchant\", \"num_orders\", \"count\"]].groupby([\"merchant\",\"num_orders\"]).sum().reset_index()\n",
    "# # ops_mrch\n",
    "ops_mrch_totals = ops_mrch.join(ops_total_by_merchant, on=[\"merchant\"], lsuffix=\"\", rsuffix=\"_total_by_merchant\")\n",
    "ops_merchants = ops_mrch_totals[[\"merchant\", \"num_orders\", \"count\", \"count_total_by_merchant\"]]\n",
    "ops_merchants[\"normalized\"] = ops_merchants[\"count\"] / ops_merchants[\"count_total_by_merchant\"]"
   ]
  },
  {
   "cell_type": "code",
   "execution_count": 81,
   "metadata": {
    "collapsed": false
   },
   "outputs": [
    {
     "data": {
      "text/plain": [
       "1465    68\n",
       "361     19\n",
       "0        1\n",
       "85       6\n",
       "427     23\n",
       "876     41\n",
       "1751    80\n",
       "799     39\n",
       "975     44\n",
       "327     18\n",
       "447     24\n",
       "642     33\n",
       "191     10\n",
       "618     32\n",
       "589     31\n",
       "669     34\n",
       "1771    83\n",
       "1607    73\n",
       "1200    53\n",
       "837     40\n",
       "Name: merchant, dtype: int64"
      ]
     },
     "execution_count": 81,
     "metadata": {},
     "output_type": "execute_result"
    }
   ],
   "source": [
    "ops_merchants[ops_merchants[\"num_orders\"] == 1].sort([\"normalized\"])[:20][\"merchant\"]"
   ]
  },
  {
   "cell_type": "code",
   "execution_count": 118,
   "metadata": {
    "collapsed": true
   },
   "outputs": [],
   "source": [
    "good_merchants = [68,19,1,6,23]"
   ]
  },
  {
   "cell_type": "code",
   "execution_count": 83,
   "metadata": {
    "collapsed": false
   },
   "outputs": [
    {
     "data": {
      "text/plain": [
       "1644     77\n",
       "1873     87\n",
       "2073    113\n",
       "1957     97\n",
       "424      20\n",
       "1865     86\n",
       "2140    134\n",
       "1288     58\n",
       "1893     89\n",
       "2133    133\n",
       "2150    137\n",
       "1996    104\n",
       "322      16\n",
       "2162    145\n",
       "2120    131\n",
       "2015    108\n",
       "488      26\n",
       "1887     88\n",
       "84        4\n",
       "2166    149\n",
       "Name: merchant, dtype: int64"
      ]
     },
     "execution_count": 83,
     "metadata": {},
     "output_type": "execute_result"
    }
   ],
   "source": [
    "ops_merchants[ops_merchants[\"num_orders\"] == 1].sort([\"normalized\"])[-20:][\"merchant\"]"
   ]
  },
  {
   "cell_type": "code",
   "execution_count": 119,
   "metadata": {
    "collapsed": true
   },
   "outputs": [],
   "source": [
    "bad_merchants = [108,26,88,4,149]"
   ]
  },
  {
   "cell_type": "code",
   "execution_count": 130,
   "metadata": {
    "collapsed": false
   },
   "outputs": [],
   "source": [
    "good_merchant_data = ops_merchants[ops_merchants[\"merchant\"].isin(good_merchants)][[\"merchant\", \"num_orders\", \"normalized\"]]\n",
    "bad_merchant_data = ops_merchants[ops_merchants[\"merchant\"].isin(bad_merchants)][[\"merchant\", \"num_orders\", \"normalized\"]]"
   ]
  },
  {
   "cell_type": "code",
   "execution_count": 135,
   "metadata": {
    "collapsed": false
   },
   "outputs": [],
   "source": [
    "summarized_good = good_merchant_data[good_merchant_data[\"num_orders\"] < 10][[\"merchant\", \"normalized\"]]\n",
    "summarized_good.to_csv(\"good_merchant_ops.csv\", index=False)\n",
    "summarized_bad = bad_merchant_data[bad_merchant_data[\"num_orders\"] < 10][[\"merchant\", \"normalized\"]]\n",
    "summarized_bad.to_csv(\"bad_merchant_ops.csv\", index=False)"
   ]
  },
  {
   "cell_type": "code",
   "execution_count": null,
   "metadata": {
    "collapsed": true
   },
   "outputs": [],
   "source": []
  }
 ],
 "metadata": {
  "kernelspec": {
   "display_name": "Python 3",
   "language": "python",
   "name": "python3"
  },
  "language_info": {
   "codemirror_mode": {
    "name": "ipython",
    "version": 3
   },
   "file_extension": ".py",
   "mimetype": "text/x-python",
   "name": "python",
   "nbconvert_exporter": "python",
   "pygments_lexer": "ipython3",
   "version": "3.4.3"
  }
 },
 "nbformat": 4,
 "nbformat_minor": 1
}

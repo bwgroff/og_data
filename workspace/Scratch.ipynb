{
 "cells": [
  {
   "cell_type": "markdown",
   "metadata": {},
   "source": [
    "The dataset includes 12 months of data of the following tables:\n",
    "\n",
    "1. subscription - holds the current state per each subscription \n",
    "1. order and order_item - an order and the line items for each order \n",
    "1. products - our sku table \n",
    "1. event_log - think of it as an activity log which tracks actions taken thru out the lifecycle of a subscription \n",
    "1. event_type - reference table for type_ID field (event_log table) \n",
    " \n",
    "Here are some questions we would like you to think about, some were deliberately left open ended to open the room for your data creativity and curiosity.  \n",
    "1. Categorize the data set \n",
    "1. Can you make any hypothesis around subscription cancellations predictors \n",
    "1. We drive value for our clients by \n",
    "  1. increasing subscription conversion, \n",
    "  1. send as many shipments per subscription or \n",
    "  1. use the IU (impulse upsell) feature to have customers add one time items to their next order, \n",
    "based on that how else can you use this data to impact the above \n",
    "1. Which additional datasets would you like to see to further investigate the above? What new problems would you hope to solve or insights gleaned with this new data?\n"
   ]
  },
  {
   "cell_type": "markdown",
   "metadata": {},
   "source": [
    "ideas for 2:\n",
    "\n",
    "1. recidivism\n",
    "1. default frequency not adjusted\n",
    "1. gifts (shipping name/address != billing)\n",
    "1. cheaper elsewhere (competitive intel)\n",
    "1. transition to another product (serial products; diapers at size 1 for x months)"
   ]
  },
  {
   "cell_type": "markdown",
   "metadata": {},
   "source": [
    "Ideas for 3:\n",
    "1. 3.A - eliminate barriers (unnecessary clicks etc) between product page and successful subscription; targeted incentives; eliminate fear (this is why amazon dash is good - timing is always right); product rotations (subscribe to a group of products not all shipped at once)\n",
    "1. 3.B - best default frequency; subscription mgmt ease (in reminder email)?; gift detection (how to handle these?)\n",
    "1. 3.C - serial products (sizes of diapers; toddler products after baby products etc); linked products with 'surprise' items (candy bars etc) but need to be sensitive (no candy bars with diet stuff)."
   ]
  },
  {
   "cell_type": "markdown",
   "metadata": {},
   "source": [
    "Ideas for 4:\n",
    "1. non-subscription basket data from clients.\n",
    "1. clickstream and browser data\n",
    "1. demographic data (facebook: https://www.washingtonpost.com/news/the-intersect/wp/2016/08/19/98-personal-data-points-that-facebook-uses-to-target-ads-to-you/)\n",
    "1. merchant demographic data\n",
    "1. product pricing data\n",
    "1. OG data\n",
    "  1. Customer \n",
    "  1. Merchant\n",
    "  1. Payment\n",
    "  1. Offers"
   ]
  },
  {
   "cell_type": "markdown",
   "metadata": {},
   "source": [
    "categorize the dataset:\n",
    "cluster customers according to behaviors?\n",
    "cluster items according to behaviors?\n",
    "find clusters in the item-customer graph\n",
    "\n",
    "predicting upsell opportunities (lower incentives; different products)\n",
    "other datasets: clickstream data - categorize users by activity before they arrive at product page\n",
    "\n",
    "first things first, get a clear definition of cancellation\n",
    "basic stats on cancellation\n",
    "hypothesize factors associated with cancellations - activities, engagement level/factors, product specific factors (aging out - e.g. diaper sizes)\n",
    "\n",
    "easiest thing to do is subsample, choose from 1 store to limit noise from inventory factors - maybe even limit to 1 item at 1 store to start? -- group_by itemid, then perform some within-group analysis?\n",
    "\n",
    "2. DQ issues. I probably should've asked for the mysql dump instead but I've gotten things mostly working now. However, compare the results from running wc on each file vs select count(*) from the resulting table:\n",
    "\n",
    "```\n",
    "     wc   select     diff\n",
    "8829339  8457167  372,172  ./event_log_nulls.csv\n",
    "     82       82        0  ./event_type_nulls.csv\n",
    "6725109  6725109        0  ./order_item_nulls.csv\n",
    "5396104  5396040       64  ./order_order_nulls.csv\n",
    "6840406  6840385       21  ./product_product_nulls.csv\n",
    "1938553  1935275     3278  ./subscription_subscription_nulls.csv\n",
    "```\n",
    "\n",
    "In the cast of the event logs, I think that a bunch of that error is accounted for by emails embedded in the email_html field which often span many lines in the raw data. Compare the following in which we grep for lines starting the right way:\n",
    "\n",
    "    >> grep ^\\\"[0-9] event_log_nulls.csv | wc\n",
    "    8457772 51181676 1149669198\n",
    "\n",
    "This leaves a discrepancy of 603 rows.\n",
    "\n",
    "I'd like to just forget about these entries since they are relatively rare in all tables. Unfortunately, we know that in the event_log table a lot of those will be errors resulting from the difficulty parsing the email html so the missing rows will not be a random sample and something similar could be happening in the other tables."
   ]
  },
  {
   "cell_type": "markdown",
   "metadata": {},
   "source": [
    "data problems / questions:\n",
    "\n",
    "1. is there a data dictionary?\n",
    "1. email data problems"
   ]
  },
  {
   "cell_type": "markdown",
   "metadata": {},
   "source": [
    "Idea:\n",
    "flow chart of subscriptions\n",
    "Need:\n",
    "nodes: (event_counter, event_type)\n",
    "edges: num_people between each"
   ]
  },
  {
   "cell_type": "markdown",
   "metadata": {},
   "source": [
    "No way to isolate individual subscriptions within event_log???\n",
    "\n",
    "Customer id 0?\n",
    "\n",
    "`offer_id` int(11) DEFAULT NULL, -- promo data?\n",
    "`one_time` tinyint(1) NOT NULL,\n",
    "\n",
    "only way to get incentives data: discount_total/sub_total in orders table??\n",
    "\n",
    "timestamps are CST - OG server time."
   ]
  },
  {
   "cell_type": "markdown",
   "metadata": {},
   "source": [
    "### Cancellation Modeling questions\n",
    "---\n",
    "\n",
    "\n",
    "is cancellation a repeat-offender situation?\n",
    "\n",
    "does non-modal shipping frequency impact likelihood of cancellation?\n",
    "\n",
    "cancellation as a function of engagement? number of shipments as a function of engagement.\n",
    "how does method-of-engagement affect this? autoship?\n",
    "\n",
    "explore diaper and size stuff? look at cancel_reasons, that is a lot of info. \"gift\" in cancellation_reason -- maybe billing_name != shipping_name?\n",
    "\n",
    "subscription, product, merchant factors?\n",
    "\n",
    "rate of tactical one-and-done subscription (TOaDS) for each merchant / product? (Tactical = using subs as tool to get discount)\n",
    "\n",
    "what factors are in common for the above? display list of ranked \"worst for ODS\" products and merchants"
   ]
  },
  {
   "cell_type": "markdown",
   "metadata": {},
   "source": [
    "workflow\n",
    "---\n",
    "\n",
    "Build list of subscriptions with an TOaDS"
   ]
  },
  {
   "cell_type": "markdown",
   "metadata": {},
   "source": [
    "\n",
    "elect oi.order_id, oi.subscription_id, o.merchant_id, o.customer_id, (o.sub_total+o.tax_total+o.shipping_total+o.discount_total) as total, o.discount_total,"
   ]
  },
  {
   "cell_type": "markdown",
   "metadata": {},
   "source": [
    "total = (sub_total + shipping_total + discount_total)"
   ]
  },
  {
   "cell_type": "markdown",
   "metadata": {},
   "source": [
    "subscription - items table:\n",
    "\n",
    "    create table subsc_item_orders select subscription_id, product_id, count(id) as num_orders from order_items where subscription_id is not NULL and product_id is not NULL group by subscription_id, product_id;"
   ]
  },
  {
   "cell_type": "markdown",
   "metadata": {},
   "source": [
    "```\n",
    "MariaDB [og]> select max(logged), min(logged) from event_log where logged > 0000;\n",
    "+---------------------+---------------------+\n",
    "| max(logged)         | min(logged)         |\n",
    "+---------------------+---------------------+\n",
    "| 2059-03-20 01:00:00 | 2015-08-17 00:00:46 |\n",
    "+---------------------+---------------------+\n",
    "1 row in set (0.00 sec)\n",
    "\n",
    "MariaDB [og]> select count(logged) from event_log where logged > \"2016-08-20 00:00:00\";\n",
    "+---------------+\n",
    "| count(logged) |\n",
    "+---------------+\n",
    "|            17 |\n",
    "+---------------+\n",
    "1 row in set (0.00 sec)\n",
    "```"
   ]
  },
  {
   "cell_type": "markdown",
   "metadata": {},
   "source": [
    "Things to build\n",
    "===\n",
    "\n",
    "TOaDS definition\n",
    "---\n",
    "Cancelled subscription with only 1 fulfilled order and time/opportunity to have more.\n",
    "\n",
    "Note: only 10k subscriptions are associated with multiple items vs 1.2M for 1 item (after excluding NULLs of course).\n",
    "\n",
    "rough TOaDS counts:\n",
    "\n",
    "```\n",
    "MariaDB [og]> select count(*) from subsc_item_orders where subscription_id < 500000 and num_orders=1;\n",
    "+----------+\n",
    "| count(*) |\n",
    "+----------+\n",
    "|    92663 |\n",
    "+----------+\n",
    "1 row in set (0.32 sec)\n",
    "\n",
    "MariaDB [og]> select count(*) from subsc_item_orders where subscription_id < 500000 and num_orders!=1;\n",
    "+----------+\n",
    "| count(*) |\n",
    "+----------+\n",
    "|   277816 |\n",
    "+----------+\n",
    "1 row in set (0.32 sec)\n",
    "```\n",
    "\n",
    "about 1/3 TOaDS.\n",
    "\n",
    "Recidivism for TOaDS\n",
    "---\n",
    "Define TOaDS and aggregate across customer_id\n",
    "Find customers that\n",
    "1. sign up in month 1\n",
    "2. start with a TOaDS\n",
    "3. have >= 2 subscriptions\n",
    "\n",
    "At what rate is subscription #2 a TOaDS?\n",
    "\n",
    "vs.\n",
    "\n",
    "customers that \n",
    "\n",
    "1. sign up in month 1\n",
    "2. start with a non-TOaDS\n",
    "3. have >= 2 subscriptions\n",
    "\n",
    "Workflow: \n",
    "1. Get all customer_ids associated with (>= or exactly) 2 subscriptions\n",
    "2. Apply TOaDS definition to both\n",
    "3. Build simple \n",
    "\n",
    "Products and Merchants suffering most from TOaDS\n",
    "---\n",
    "Just rank these and display, look for common factors\n",
    "\n",
    "Predicting TOaDS\n",
    "---\n",
    "features:\n",
    "product and merchant susceptibility\n",
    "time\n",
    "customer prior TOaDS"
   ]
  },
  {
   "cell_type": "markdown",
   "metadata": {},
   "source": [
    "```\n",
    "create table toads select s.id, s.created, s.customer_id, s.merchant_id, sio.num_orders, (sio.num_orders = 1) as TOaDS from subscriptions as s inner join subsc_item_orders as sio on s.id = sio.subscription_id;\n",
    "\n",
    "\n",
    "create table subs_toads_2014 select x.customer_id, x.merchant_id, sum(x.TOaDS) as num_toads, count(*) as num_subs from  (select * from toads where created >= \"2014-01-01 00:00:00\" and created < \"2015-01-01 00:00:00\")x group by x.customer_id, x.merchant_id;\n",
    "\n",
    "create table yoy_toads_comparison select t2014.*, t2015.merchant_id as merchant_id_2015, t2015.num_toads as num_toads_2015, t2015.num_subs as num_subs_2015 from subs_toads_2014 as t2014 inner join subs_toads_2015 as t2015 on t2014.customer_id = t2014.customer_id;\n",
    "```"
   ]
  },
  {
   "cell_type": "markdown",
   "metadata": {},
   "source": [
    "orders per sub\n",
    "---\n",
    "\n",
    "```\n",
    "create table orders_per_sub select s.merchant_id, sio.product_id, sio.num_orders, count(*) from subscriptions as s inner join subsc_item_orders as sio on s.id=sio.subscription_id group by product_id, num_orders;\n",
    "```"
   ]
  },
  {
   "cell_type": "markdown",
   "metadata": {
    "collapsed": true
   },
   "source": [
    "```\n",
    "MariaDB [og]> select ns.*, p.name, price from (select product_id, count(*) as num_subs from subscriptions group by product_id order by num_subs desc limit 5) ns inner join products as p on p.id = ns.product_id;\n",
    "+------------+----------+--------------------------------------------------------------------------+-------+\n",
    "| product_id | num_subs | name                                                                     | price |\n",
    "+------------+----------+--------------------------------------------------------------------------+-------+\n",
    "|     868284 |    55078 | Menâ€™s ROGAINEÂ® Unscented Foam 4-Month Supply                          | 59.99 |\n",
    "|    5119164 |    26284 | GEÂ® REFRIGERATOR WATER FILTER                                           | 49.99 |\n",
    "|    5657542 |    18079 | GilletteÂ® FusionÂ® ProGlideÂ® Manual Razor Blade Refills, 4 Count       | 19.49 |\n",
    "|    6161241 |    13306 | GilletteÂ® FusionÂ® ProShieldâ„¢ Razor Blade Refills, 4 Count            | 22.45 |\n",
    "|    4718598 |     9686 | Deep Pore Cleansing Brush Head (Single)                                  | 27.00 |\n",
    "+------------+----------+--------------------------------------------------------------------------+-------+\n",
    "```"
   ]
  },
  {
   "cell_type": "markdown",
   "metadata": {},
   "source": [
    "```\n",
    "MariaDB [og]> select ns.*, p.name, price from (select product_id, count(*) as num_subs from subscriptions group by product_id order by num_subs desc limit 20) ns inner join products as p on p.id = ns.product_id;\n",
    "+------------+----------+--------------------------------------------------------------------------+--------+\n",
    "| product_id | num_subs | name                                                                     | price  |\n",
    "+------------+----------+--------------------------------------------------------------------------+--------+\n",
    "|     868284 |    55078 | Menâ€™s ROGAINEÂ® Unscented Foam 4-Month Supply                          |  59.99 |\n",
    "|    5119164 |    26284 | GEÂ® REFRIGERATOR WATER FILTER                                           |  49.99 |\n",
    "|    5657542 |    18079 | GilletteÂ® FusionÂ® ProGlideÂ® Manual Razor Blade Refills, 4 Count       |  19.49 |\n",
    "|    6161241 |    13306 | GilletteÂ® FusionÂ® ProShieldâ„¢ Razor Blade Refills, 4 Count            |  22.45 |\n",
    "|    4718598 |     9686 | Deep Pore Cleansing Brush Head (Single)                                  |  27.00 |\n",
    "|       2155 |     9550 | Whirlpool 4396841 Refrigerator Filter                                    |  44.90 |\n",
    "|    5657555 |     8786 | GilletteÂ® MACH3Â® Turbo Razor Blade Refills,  5 Count                   |  16.99 |\n",
    "|    5526406 |     8652 | GEÂ® REFRIGERATOR WATER FILTER                                           |  54.99 |\n",
    "|       1643 |     8502 | Maytag Puriclean II UKF8001 Filter 4 UKF8001AXX                          |  53.95 |\n",
    "|       1656 |     8163 | Whirlpool PUR 4396710 Replaces Kenmore EDR3RXD1                          |  44.90 |\n",
    "|    5119165 |     7673 | GEÂ® REFRIGERATOR WATER FILTER 3-PACK                                    | 134.75 |\n",
    "|     868292 |     7554 | Womenâ€™s ROGAINEÂ® Topical Solution 4-Month Supply                      |  59.99 |\n",
    "|    5199597 |     7240 | Hair Growth 3 Bottle Bundle                                              | 119.97 |\n",
    "|    1108415 |     6135 | Ultra Facial Cream 4.2 fl. oz. Jar                                       |  47.50 |\n",
    "|    1108357 |     6061 | Creamy Eye Treatment with Avocado 0.5 fl. oz. Jar                        |  29.00 |\n",
    "|    1125811 |     5990 | Concentrate, Low-Cal Orange, (32 oz. Bottle), Individual                 |  20.99 |\n",
    "|    5657550 |     5400 | GilletteÂ® FusionÂ® Manual Razor Blade Refills, 4 Count                  |  17.74 |\n",
    "|     251433 |     5384 | Whirlpool W10295370 Refrigerator Filter FILTER1                          |  49.90 |\n",
    "|    4718599 |     5345 | Deep Pore Cleansing Brush Head (TwinPack)                                |  44.00 |\n",
    "|       3006 |     5215 | 1\" Air Filters Merv 13 - Case of 6 Filters (Best)                        |  54.95 |\n",
    "+------------+----------+--------------------------------------------------------------------------+--------+\n",
    "```"
   ]
  },
  {
   "cell_type": "markdown",
   "metadata": {},
   "source": [
    "```\n",
    "select s.frequency_days, sio.num_orders, count(*) \n",
    "from subsc_item_orders as sio  \n",
    "inner join  subscriptions as s \n",
    "on s.id = sio.subscription_id \n",
    "where sio.product_id = 1108415 \n",
    "and s.created < \"2015-01-01 00:00:00\" \n",
    "group by s.frequency_days, sio.num_orders\n",
    "INTO OUTFILE 'cream_freq_orders.csv' FIELDS TERMINATED BY ',' ENCLOSED BY '' LINES TERMINATED BY '\\n';\n",
    "\n",
    "SELECT s.frequency_days, sio.num_orders, count(*)\n",
    "FROM subsc_item_orders AS sio\n",
    "INNER JOIN subscriptions AS s\n",
    "ON s.id = sio.subscription_id\n",
    "WHERE sio.product_id = 1108415\n",
    "AND s.created < \"2015-01-01 00:00:00\"\n",
    "GROUP BY s.frequency_days, sio.num_orders\n",
    "INTO OUTFILE 'cream_freq_orders.csv' FIELDS TERMINATED BY ',' ENCLOSED BY '' LINES TERMINATED BY '\\n';\n",
    "```"
   ]
  },
  {
   "cell_type": "code",
   "execution_count": null,
   "metadata": {
    "collapsed": true
   },
   "outputs": [],
   "source": []
  }
 ],
 "metadata": {
  "kernelspec": {
   "display_name": "Python 3",
   "language": "python",
   "name": "python3"
  },
  "language_info": {
   "codemirror_mode": {
    "name": "ipython",
    "version": 3
   },
   "file_extension": ".py",
   "mimetype": "text/x-python",
   "name": "python",
   "nbconvert_exporter": "python",
   "pygments_lexer": "ipython3",
   "version": "3.4.3"
  }
 },
 "nbformat": 4,
 "nbformat_minor": 1
}

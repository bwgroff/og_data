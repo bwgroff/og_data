{
 "cells": [
  {
   "cell_type": "markdown",
   "metadata": {},
   "source": [
    "The dataset includes 12 months of data of the following tables:\n",
    "\n",
    "1. subscription - holds the current state per each subscription \n",
    "1. order and order_item - an order and the line items for each order \n",
    "1. products - our sku table \n",
    "1. event_log - think of it as an activity log which tracks actions taken thru out the lifecycle of a subscription \n",
    "1. event_type - reference table for type_ID field (event_log table) \n",
    " \n",
    "Here are some questions we would like you to think about, some were deliberately left open ended to open the room for your data creativity and curiosity.  \n",
    "1. Categorize the data set \n",
    "1. Can you make any hypothesis around subscription cancellations predictors \n",
    "1. We drive value for our clients by increasing subscription conversion, send as many shipments per subscription or use the IU (impulse upsell) feature to have customers add\n",
    "one time items to their next order, based on that how else can you use this data to impact the above \n",
    "1. Which additional datasets would you like to see to further investigate the above? What new problems would you hope to solve or insights gleaned with this new data?\n"
   ]
  },
  {
   "cell_type": "markdown",
   "metadata": {},
   "source": [
    "categorize the dataset:\n",
    "cluster customers according to behaviors?\n",
    "cluster items according to behaviors?\n",
    "find clusters in the item-customer graph\n",
    "\n",
    "predicting upsell opportunities (lower incentives; different products)\n",
    "other datasets: clickstream data - categorize users by activity before they arrive at product page\n",
    "\n",
    "first things first, get a clear definition of cancellation\n",
    "basic stats on cancellation\n",
    "hypothesize factors associated with cancellations - activities, engagement level/factors, product specific factors (aging out - e.g. diaper sizes)\n",
    "\n",
    "easiest thing to do is subsample, choose from 1 store to limit noise from inventory factors - maybe even limit to 1 item at 1 store to start? -- group_by itemid, then perform some within-group analysis?\n",
    "\n",
    "2. DQ issues. I probably should've asked for the mysql dump instead but I've gotten things mostly working now. However, compare the results from running wc on each file vs select count(*) from the resulting table:\n",
    "\n",
    "```\n",
    "     wc   select     diff\n",
    "8829339  8457167  372,172  ./event_log_nulls.csv\n",
    "     82       82        0  ./event_type_nulls.csv\n",
    "6725109  6725109        0  ./order_item_nulls.csv\n",
    "5396104  5396040       64  ./order_order_nulls.csv\n",
    "6840406  6840385       21  ./product_product_nulls.csv\n",
    "1938553  1935275     3278  ./subscription_subscription_nulls.csv\n",
    "```\n",
    "\n",
    "In the cast of the event logs, I think that a bunch of that error is accounted for by emails embedded in the email_html field which often span many lines in the raw data. Compare the following in which we grep for lines starting the right way:\n",
    "\n",
    "    >> grep ^\\\"[0-9] event_log_nulls.csv | wc\n",
    "    8457772 51181676 1149669198\n",
    "\n",
    "This leaves a discrepancy of 603 rows.\n",
    "\n",
    "I'd like to just forget about these entries since they are relatively rare in all tables. Unfortunately, we know that in the event_log table a lot of those will be errors resulting from the difficulty parsing the email html so the missing rows will not be a random sample and something similar could be happening in the other tables."
   ]
  },
  {
   "cell_type": "markdown",
   "metadata": {},
   "source": [
    "data problems / questions:\n",
    "\n",
    "1. is there a data dictionary?\n",
    "1. email data problems"
   ]
  },
  {
   "cell_type": "markdown",
   "metadata": {},
   "source": [
    "Idea:\n",
    "flow chart of subscriptions\n",
    "Need:\n",
    "nodes: (event_counter, event_type)\n",
    "edges: num_people between each"
   ]
  },
  {
   "cell_type": "markdown",
   "metadata": {},
   "source": [
    "No way to isolate individual subscriptions within event_log???\n",
    "\n",
    "Customer id 0?\n",
    "\n",
    "`offer_id` int(11) DEFAULT NULL, -- promo data?\n",
    "`one_time` tinyint(1) NOT NULL,\n",
    "\n",
    "only way to get incentives data: discount_total/sub_total in orders table??\n",
    "\n",
    "timestamps are CST - OG server time."
   ]
  },
  {
   "cell_type": "markdown",
   "metadata": {},
   "source": [
    "### Cancellation Modeling questions\n",
    "---\n",
    "\n",
    "\n",
    "is cancellation a repeat-offender situation?\n",
    "\n",
    "does non-modal shipping frequency impact likelihood of cancellation?\n",
    "\n",
    "cancellation as a function of engagement? number of shipments as a function of engagement.\n",
    "how does method-of-engagement affect this? autoship?\n",
    "\n",
    "explore diaper and size stuff? look at cancel_reasons, that is a lot of info. \"gift\" in cancellation_reason -- maybe billing_name != shipping_name?\n",
    "\n",
    "subscription, product, merchant factors?\n",
    "\n",
    "rate of one-and-done subscription (ODS) for each merchant / product?\n",
    "\n",
    "what factors are in common for the above? display list of ranked \"worst for ODS\" products and merchants"
   ]
  },
  {
   "cell_type": "markdown",
   "metadata": {},
   "source": [
    "workflow\n",
    "---\n",
    "\n",
    "Build list of subscriptions with an ODS"
   ]
  },
  {
   "cell_type": "code",
   "execution_count": null,
   "metadata": {
    "collapsed": true
   },
   "outputs": [],
   "source": []
  }
 ],
 "metadata": {
  "kernelspec": {
   "display_name": "Python 3",
   "language": "python",
   "name": "python3"
  },
  "language_info": {
   "codemirror_mode": {
    "name": "ipython",
    "version": 3
   },
   "file_extension": ".py",
   "mimetype": "text/x-python",
   "name": "python",
   "nbconvert_exporter": "python",
   "pygments_lexer": "ipython3",
   "version": "3.4.3"
  }
 },
 "nbformat": 4,
 "nbformat_minor": 1
}

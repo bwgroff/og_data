{
 "cells": [
  {
   "cell_type": "markdown",
   "metadata": {},
   "source": [
    "The dataset includes 12 months of data of the following tables:\n",
    "\n",
    "1. subscription - holds the current state per each subscription \n",
    "1. order and order_item - an order and the line items for each order \n",
    "1. products - our sku table \n",
    "1. event_log - think of it as an activity log which tracks actions taken thru out the lifecycle of a subscription \n",
    "1. event_type - reference table for type_ID field (event_log table) \n",
    " \n",
    "Here are some questions we would like you to think about, some were deliberately left open ended to open the room for your data creativity and curiosity.  \n",
    "1. Categorize the data set \n",
    "1. Can you make any hypothesis around subscription cancellations predictors \n",
    "1. We drive value for our clients by increasing subscription conversion, send as many shipments per subscription or use the IU (impulse upsell) feature to have customers add\n",
    "one time items to their next order, based on that how else can you use this data to impact the above \n",
    "1. Which additional datasets would you like to see to further investigate the above? What new problems would you hope to solve or insights gleaned with this new data?\n"
   ]
  },
  {
   "cell_type": "markdown",
   "metadata": {},
   "source": [
    "predicting upsell opportunities (lower incentives; different products)\n",
    "other datasets: clickstream data - categorize users by activity before they arrive at product page\n",
    "\n",
    "first things first, get a clear definition of cancellation\n",
    "basic stats on cancellation\n",
    "hypothesize factors associated with cancellations - activities, engagement level/factors, product specific factors (aging out - e.g. diaper sizes)\n",
    "\n",
    "easiest thing to do is subsample, choose from 1 store to limit noise from inventory factors - maybe even limit to 1 item at 1 store to start? -- group_by itemid, then perform some within-group analysis?"
   ]
  },
  {
   "cell_type": "markdown",
   "metadata": {},
   "source": [
    "data problems / questions:\n",
    "\n",
    "1. is there a data dictionary?\n",
    "1. email data problems"
   ]
  },
  {
   "cell_type": "code",
   "execution_count": 1,
   "metadata": {
    "collapsed": true
   },
   "outputs": [],
   "source": [
    "import pandas as pd"
   ]
  },
  {
   "cell_type": "code",
   "execution_count": 2,
   "metadata": {
    "collapsed": false
   },
   "outputs": [
    {
     "name": "stdout",
     "output_type": "stream",
     "text": [
      "total 5811040\r\n",
      "drwxr-x--- 1 vagrant        510 Aug 18 20:35 \u001b[0m\u001b[01;34m.\u001b[0m/\r\n",
      "drwxr-x--- 1 vagrant        170 Aug 18 20:35 \u001b[01;34m..\u001b[0m/\r\n",
      "-rw-r----- 1 vagrant 1166267672 Aug 18 20:10 event_log.csv\r\n",
      "-rw-r----- 1 vagrant        684 Aug 18 14:14 event_log_table_schema.txt\r\n",
      "-rw-r----- 1 vagrant       4018 Aug 18 14:10 event_type.csv\r\n",
      "-rw-r----- 1 vagrant        472 Aug 18 14:14 event_type_table_schema.txt\r\n",
      "-rw-r----- 1 vagrant  780893027 Aug 18 14:11 order_item.csv\r\n",
      "-rw-r----- 1 vagrant       1047 Aug 18 14:15 order_item_table_schema.txt\r\n",
      "-rw-r----- 1 vagrant 1226042818 Aug 18 14:13 order_order.csv\r\n",
      "-rw-r----- 1 vagrant       1428 Aug 18 14:15 order_order_table_schema.txt\r\n",
      "-rw-r----- 1 vagrant 2185786423 Aug 18 14:14 product_product.csv\r\n",
      "-rw-r----- 1 vagrant       1475 Aug 18 14:15 product_product_table_schema.txt\r\n",
      "-rw-r----- 1 vagrant  591474874 Aug 18 14:15 subscription_subscription.csv\r\n",
      "-rw-r----- 1 vagrant       2127 Aug 18 14:16 subscription_subscription_table_schema.txt\r\n",
      "drwxr-x--- 1 vagrant        102 Aug 18 20:36 \u001b[01;34msummary\u001b[0m/\r\n"
     ]
    }
   ],
   "source": [
    "ls -alFG data"
   ]
  },
  {
   "cell_type": "code",
   "execution_count": 5,
   "metadata": {
    "collapsed": true
   },
   "outputs": [],
   "source": [
    "pd.read_csv?"
   ]
  },
  {
   "cell_type": "code",
   "execution_count": null,
   "metadata": {
    "collapsed": true
   },
   "outputs": [],
   "source": []
  },
  {
   "cell_type": "code",
   "execution_count": 7,
   "metadata": {
    "collapsed": false
   },
   "outputs": [
    {
     "data": {
      "text/html": [
       "<div style=\"max-height:1000px;max-width:1500px;overflow:auto;\">\n",
       "<table border=\"1\" class=\"dataframe\">\n",
       "  <thead>\n",
       "    <tr style=\"text-align: right;\">\n",
       "      <th></th>\n",
       "      <th>id</th>\n",
       "      <th>type_id</th>\n",
       "      <th>object_id</th>\n",
       "      <th>object_metadata</th>\n",
       "      <th>customer_id</th>\n",
       "      <th>logged</th>\n",
       "      <th>sent</th>\n",
       "      <th>viewed</th>\n",
       "      <th>email_html</th>\n",
       "    </tr>\n",
       "  </thead>\n",
       "  <tbody>\n",
       "    <tr>\n",
       "      <th>count</th>\n",
       "      <td> 96145</td>\n",
       "      <td> 81854</td>\n",
       "      <td> 81797</td>\n",
       "      <td> 81752</td>\n",
       "      <td>  81533</td>\n",
       "      <td>               81533</td>\n",
       "      <td> 81521</td>\n",
       "      <td> 57613</td>\n",
       "      <td>              434</td>\n",
       "    </tr>\n",
       "    <tr>\n",
       "      <th>unique</th>\n",
       "      <td> 83425</td>\n",
       "      <td>    84</td>\n",
       "      <td> 65860</td>\n",
       "      <td> 30513</td>\n",
       "      <td>  49153</td>\n",
       "      <td>               36589</td>\n",
       "      <td>  6582</td>\n",
       "      <td>     5</td>\n",
       "      <td>                3</td>\n",
       "    </tr>\n",
       "    <tr>\n",
       "      <th>top</th>\n",
       "      <td> &lt;/p&gt;\"</td>\n",
       "      <td>     4</td>\n",
       "      <td> N;{}\"</td>\n",
       "      <td>    {}</td>\n",
       "      <td> 601782</td>\n",
       "      <td> 2015-08-17 06:10:03</td>\n",
       "      <td>   N;N</td>\n",
       "      <td>   N;N</td>\n",
       "      <td>  font-size: 11px</td>\n",
       "    </tr>\n",
       "    <tr>\n",
       "      <th>freq</th>\n",
       "      <td>  1547</td>\n",
       "      <td> 20627</td>\n",
       "      <td>  2131</td>\n",
       "      <td> 19608</td>\n",
       "      <td>    216</td>\n",
       "      <td>                 110</td>\n",
       "      <td> 23908</td>\n",
       "      <td> 57179</td>\n",
       "      <td>              300</td>\n",
       "    </tr>\n",
       "  </tbody>\n",
       "</table>\n",
       "<p>4 rows × 9 columns</p>\n",
       "</div>"
      ],
      "text/plain": [
       "           id type_id object_id object_metadata customer_id  \\\n",
       "count   96145   81854     81797           81752       81533   \n",
       "unique  83425      84     65860           30513       49153   \n",
       "top     </p>\"       4     N;{}\"              {}      601782   \n",
       "freq     1547   20627      2131           19608         216   \n",
       "\n",
       "                     logged   sent viewed        email_html  \n",
       "count                 81533  81521  57613               434  \n",
       "unique                36589   6582      5                 3  \n",
       "top     2015-08-17 06:10:03    N;N    N;N   font-size: 11px  \n",
       "freq                    110  23908  57179               300  \n",
       "\n",
       "[4 rows x 9 columns]"
      ]
     },
     "execution_count": 7,
     "metadata": {},
     "output_type": "execute_result"
    }
   ],
   "source": [
    "event_log.describe()"
   ]
  },
  {
   "cell_type": "code",
   "execution_count": 2,
   "metadata": {
    "collapsed": false
   },
   "outputs": [],
   "source": [
    "f = open(\"./data/event_log.csv\")"
   ]
  },
  {
   "cell_type": "code",
   "execution_count": 5,
   "metadata": {
    "collapsed": false
   },
   "outputs": [],
   "source": [
    "s=f.readline()"
   ]
  },
  {
   "cell_type": "code",
   "execution_count": null,
   "metadata": {
    "collapsed": true
   },
   "outputs": [],
   "source": []
  }
 ],
 "metadata": {
  "kernelspec": {
   "display_name": "Python 3",
   "language": "python",
   "name": "python3"
  },
  "language_info": {
   "codemirror_mode": {
    "name": "ipython",
    "version": 3
   },
   "file_extension": ".py",
   "mimetype": "text/x-python",
   "name": "python",
   "nbconvert_exporter": "python",
   "pygments_lexer": "ipython3",
   "version": "3.4.3"
  }
 },
 "nbformat": 4,
 "nbformat_minor": 1
}

{
 "cells": [
  {
   "cell_type": "code",
   "execution_count": 22,
   "metadata": {
    "collapsed": true
   },
   "outputs": [],
   "source": [
    "from collections import defaultdict, Counter\n",
    "import json\n",
    "from itertools import product"
   ]
  },
  {
   "cell_type": "markdown",
   "metadata": {},
   "source": [
    "Create Node data from event_types and processed edges."
   ]
  },
  {
   "cell_type": "markdown",
   "metadata": {},
   "source": [
    "Create Edge data from event_log."
   ]
  },
  {
   "cell_type": "code",
   "execution_count": 23,
   "metadata": {
    "collapsed": false
   },
   "outputs": [
    {
     "name": "stdout",
     "output_type": "stream",
     "text": [
      "['1624,9\\n', '1624,5\\n', '1624,9\\n', '1624,40\\n', '1624,40\\n']\n"
     ]
    }
   ],
   "source": [
    "journey_rawdata = open(\"data/journey.csv\").readlines()\n",
    "print(journey_rawdata[:5])"
   ]
  },
  {
   "cell_type": "code",
   "execution_count": 24,
   "metadata": {
    "collapsed": false
   },
   "outputs": [],
   "source": [
    "groups = json.load(open(\"data/event_groupings.json\"))"
   ]
  },
  {
   "cell_type": "code",
   "execution_count": 25,
   "metadata": {
    "collapsed": false
   },
   "outputs": [],
   "source": [
    "journeys = defaultdict(list)\n",
    "for line in journey_rawdata:\n",
    "    customer, event = line.split(',')\n",
    "    event = groups[\"Type_to_group\"][event[:-1]]\n",
    "    customer = int(customer)\n",
    "    journeys[customer].append(event)"
   ]
  },
  {
   "cell_type": "code",
   "execution_count": 26,
   "metadata": {
    "collapsed": false
   },
   "outputs": [
    {
     "data": {
      "text/plain": [
       "[0, 4]"
      ]
     },
     "execution_count": 26,
     "metadata": {},
     "output_type": "execute_result"
    }
   ],
   "source": [
    "journey_keys = iter(journeys.keys())\n",
    "journeys[next(journey_keys)]"
   ]
  },
  {
   "cell_type": "code",
   "execution_count": 27,
   "metadata": {
    "collapsed": false
   },
   "outputs": [
    {
     "data": {
      "text/plain": [
       "[0, 4, 2, 4, 2]"
      ]
     },
     "execution_count": 27,
     "metadata": {},
     "output_type": "execute_result"
    }
   ],
   "source": [
    "journeys[next(journey_keys)]"
   ]
  },
  {
   "cell_type": "code",
   "execution_count": 28,
   "metadata": {
    "collapsed": false
   },
   "outputs": [],
   "source": [
    "def pairs(events, length_cap):\n",
    "    events = [(0, x[1]) if x[1] == 2 else x for x in enumerate(events[:length_cap])]  # only 1 cancellation event\n",
    "    if (0, 2) in events:\n",
    "        events = events[:events.index((0,2)) + 1]\n",
    "    return [(events[i], events[i+1]) for i in range(len(events) - 1)]\n",
    "\n",
    "# >> pairs([1,5,5,27,3],2)\n",
    "# [((0, 1), (1, 5))]"
   ]
  },
  {
   "cell_type": "markdown",
   "metadata": {},
   "source": [
    "1. get set of pairs that actually occur - looks like all or close. XX\n",
    "1. output to a file and record indices, ie create dict{pair: index}\n",
    "1. create counter of union of journeys: dict(pair of pairs : count) XX\n",
    "1. use lookup dict to map keys to dict(pair of indices : count)\n",
    "1. output\n",
    "\n",
    "What about subscription status? What can we glean from this file?\n",
    "\n",
    "Definitely need to create groupings of event_types.\n",
    "\n",
    "```\n",
    "enumerate the possible nodes (0-20, 0-13), 260 of them. Gives:\n",
    "(index, (event_number, event_group))\n",
    "create func to create json for (index, (event_clock, event_group)) -> [{name: groups[\"Groups\"][event_group]}]\n",
    "create dict:\n",
    "{(event_number, event_group): index}\n",
    "use dict to map edges:\n",
    "(((num, grp), (num, grp)), count) -> {source: index, target: index, value: count}\n",
    "```"
   ]
  },
  {
   "cell_type": "code",
   "execution_count": 29,
   "metadata": {
    "collapsed": true
   },
   "outputs": [],
   "source": [
    "def endpoints(segments):\n",
    "    endpoints = set()\n",
    "    for seg in segments:\n",
    "        endpoints.add(seg[0])\n",
    "        endpoints.add(seg[1])\n",
    "    return endpoints"
   ]
  },
  {
   "cell_type": "code",
   "execution_count": 30,
   "metadata": {
    "collapsed": false,
    "scrolled": true
   },
   "outputs": [],
   "source": [
    "num_events = 10\n",
    "\n",
    "journey_segments = []  # [((a, b), (c, d))]\n",
    "nodeset = set()\n",
    "for j in journeys.values():\n",
    "    if j[0] == 0:\n",
    "        segments = pairs(j, num_events)\n",
    "        nodeset = nodeset.union(endpoints(segments))\n",
    "        journey_segments.extend(segments)"
   ]
  },
  {
   "cell_type": "code",
   "execution_count": 31,
   "metadata": {
    "collapsed": true
   },
   "outputs": [],
   "source": [
    "c = Counter(journey_segments)"
   ]
  },
  {
   "cell_type": "code",
   "execution_count": 35,
   "metadata": {
    "collapsed": true
   },
   "outputs": [],
   "source": [
    "possible_node_ids = list(enumerate([x for x in product(range(num_events), range(14)) if x in nodeset]))\n",
    "nodes = [{\"name\": groups[\"Groups\"][node[1][1]]} for node in possible_node_ids] #  + \"-\" + str(node[1][0])\n",
    "node_lookup = {node[1]:node[0] for node in possible_node_ids}"
   ]
  },
  {
   "cell_type": "code",
   "execution_count": 36,
   "metadata": {
    "collapsed": false
   },
   "outputs": [],
   "source": [
    "edges = [{\"source\": node_lookup[k[0]], \"target\": node_lookup[k[1]], \"value\": v} for k,v in c.items()]"
   ]
  },
  {
   "cell_type": "code",
   "execution_count": 37,
   "metadata": {
    "collapsed": false
   },
   "outputs": [],
   "source": [
    "graph = {\"nodes\": nodes, \"links\": edges}\n",
    "json.dump(graph, open(\"data/graph.json\", \"w\"), indent=2)"
   ]
  },
  {
   "cell_type": "code",
   "execution_count": null,
   "metadata": {
    "collapsed": true
   },
   "outputs": [],
   "source": []
  }
 ],
 "metadata": {
  "kernelspec": {
   "display_name": "Python 3",
   "language": "python",
   "name": "python3"
  },
  "language_info": {
   "codemirror_mode": {
    "name": "ipython",
    "version": 3
   },
   "file_extension": ".py",
   "mimetype": "text/x-python",
   "name": "python",
   "nbconvert_exporter": "python",
   "pygments_lexer": "ipython3",
   "version": "3.4.3"
  }
 },
 "nbformat": 4,
 "nbformat_minor": 1
}

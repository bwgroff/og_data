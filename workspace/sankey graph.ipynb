{
 "cells": [
  {
   "cell_type": "code",
   "execution_count": 49,
   "metadata": {
    "collapsed": true
   },
   "outputs": [],
   "source": [
    "from collections import defaultdict, Counter\n",
    "import json"
   ]
  },
  {
   "cell_type": "markdown",
   "metadata": {},
   "source": [
    "Create Node data from event_types and processed edges."
   ]
  },
  {
   "cell_type": "markdown",
   "metadata": {},
   "source": [
    "Create Edge data from event_log."
   ]
  },
  {
   "cell_type": "code",
   "execution_count": 2,
   "metadata": {
    "collapsed": false
   },
   "outputs": [
    {
     "name": "stdout",
     "output_type": "stream",
     "text": [
      "['1624,9\\n', '1624,5\\n', '1624,9\\n', '1624,40\\n', '1624,40\\n']\n"
     ]
    }
   ],
   "source": [
    "journey_rawdata = open(\"data/journey.csv\").readlines()\n",
    "print(journey_rawdata[:5])"
   ]
  },
  {
   "cell_type": "code",
   "execution_count": 52,
   "metadata": {
    "collapsed": false
   },
   "outputs": [],
   "source": [
    "groups = json.load(open(\"data/event_groupings.json\"))"
   ]
  },
  {
   "cell_type": "code",
   "execution_count": 53,
   "metadata": {
    "collapsed": false
   },
   "outputs": [],
   "source": [
    "journeys = defaultdict(list)\n",
    "for line in journey_rawdata:\n",
    "    customer, event = line.split(',')\n",
    "    event = groups[\"Type_to_group\"][event[:-1]]\n",
    "    customer = int(customer)\n",
    "    journeys[customer].append(event)"
   ]
  },
  {
   "cell_type": "code",
   "execution_count": 54,
   "metadata": {
    "collapsed": false
   },
   "outputs": [
    {
     "data": {
      "text/plain": [
       "[0, 4]"
      ]
     },
     "execution_count": 54,
     "metadata": {},
     "output_type": "execute_result"
    }
   ],
   "source": [
    "journey_keys = iter(journeys.keys())\n",
    "journeys[next(journey_keys)]"
   ]
  },
  {
   "cell_type": "code",
   "execution_count": 57,
   "metadata": {
    "collapsed": false
   },
   "outputs": [],
   "source": [
    "def pairs(events, length_cap):\n",
    "    events = list(enumerate(events[:length_cap]))\n",
    "    return [(events[i], events[i+1]) for i in range(len(events) - 1)]\n",
    "\n",
    "# >> pairs([1,5,5,27,3],2)\n",
    "# [((0, 1), (1, 5))]"
   ]
  },
  {
   "cell_type": "markdown",
   "metadata": {},
   "source": [
    "1. get set of pairs that actually occur - looks like all or close. XX\n",
    "1. output to a file and record indices, ie create dict{pair: index}\n",
    "1. create counter of union of journeys: dict(pair of pairs : count) XX\n",
    "1. use lookup dict to map keys to dict(pair of indices : count)\n",
    "1. output\n",
    "\n",
    "What about subscription status? What can we glean from this file?\n",
    "\n",
    "Definitely need to create groupings of event_types.\n",
    "\n",
    "```\n",
    "enumerate the possible nodes (0-20, 0-13), 260 of them. Gives:\n",
    "(index, (event_number, event_group))\n",
    "create func to create json for (index, (event_number, event_group)) -> [{name: groups[\"Groups\"][event_group]}]\n",
    "create dict:\n",
    "{(event_number, event_group): index}\n",
    "use dict to map edges:\n",
    "(((num, grp), (num, grp)), count) -> {source: index, target: index, value: count}\n",
    "```"
   ]
  },
  {
   "cell_type": "code",
   "execution_count": 73,
   "metadata": {
    "collapsed": false
   },
   "outputs": [],
   "source": [
    "journey_segments = []\n",
    "for j in journeys.values():\n",
    "    journey_segments.extend(pairs(j, 20))"
   ]
  },
  {
   "cell_type": "code",
   "execution_count": 74,
   "metadata": {
    "collapsed": true
   },
   "outputs": [],
   "source": [
    "c = Counter(journey_segments)"
   ]
  },
  {
   "cell_type": "code",
   "execution_count": 69,
   "metadata": {
    "collapsed": false
   },
   "outputs": [
    {
     "name": "stdout",
     "output_type": "stream",
     "text": [
      "19\n"
     ]
    }
   ],
   "source": [
    "lengths = []\n",
    "for acct, j in journeys.items():\n",
    "    if len(j) < 20:\n",
    "        lengths.append(len(j))\n",
    "print(max(lengths))"
   ]
  },
  {
   "cell_type": "code",
   "execution_count": 63,
   "metadata": {
    "collapsed": false
   },
   "outputs": [
    {
     "data": {
      "text/plain": [
       "323"
      ]
     },
     "execution_count": 63,
     "metadata": {},
     "output_type": "execute_result"
    }
   ],
   "source": [
    "sorted(lengths)[-1000]"
   ]
  },
  {
   "cell_type": "code",
   "execution_count": 72,
   "metadata": {
    "collapsed": false
   },
   "outputs": [
    {
     "data": {
      "text/plain": [
       "<matplotlib.axes.AxesSubplot at 0x7fc78c71c780>"
      ]
     },
     "execution_count": 72,
     "metadata": {},
     "output_type": "execute_result"
    },
    {
     "data": {
      "image/png": "[encoded data removed]",
      "text/plain": [
       "<matplotlib.figure.Figure at 0x7fc78c905da0>"
      ]
     },
     "metadata": {},
     "output_type": "display_data"
    }
   ],
   "source": [
    "import seaborn as sns\n",
    "import matplotlib.pyplot as plt\n",
    "%matplotlib inline\n",
    "sns.distplot(lengths, bins=range(20), kde=False)"
   ]
  },
  {
   "cell_type": "code",
   "execution_count": 67,
   "metadata": {
    "collapsed": true
   },
   "outputs": [],
   "source": [
    "sns.distplot?"
   ]
  },
  {
   "cell_type": "code",
   "execution_count": null,
   "metadata": {
    "collapsed": true
   },
   "outputs": [],
   "source": []
  }
 ],
 "metadata": {
  "kernelspec": {
   "display_name": "Python 3",
   "language": "python",
   "name": "python3"
  },
  "language_info": {
   "codemirror_mode": {
    "name": "ipython",
    "version": 3
   },
   "file_extension": ".py",
   "mimetype": "text/x-python",
   "name": "python",
   "nbconvert_exporter": "python",
   "pygments_lexer": "ipython3",
   "version": "3.4.3"
  }
 },
 "nbformat": 4,
 "nbformat_minor": 1
}
